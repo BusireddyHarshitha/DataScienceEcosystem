{
 "cells": [
  {
   "cell_type": "markdown",
   "id": "bfae8880-48f1-4a71-9a52-9e439eb490f0",
   "metadata": {
    "jupyter": {
     "source_hidden": true
    },
    "tags": []
   },
   "source": [
    "# Execution of markdown cell\n",
    "## H1:This is level  Data Science Tools and Ecosystem"
   ]
  },
  {
   "cell_type": "markdown",
   "id": "b309e59e-2f3f-4059-85a5-03aaf5b57e79",
   "metadata": {},
   "source": [
    "#Introduction\n",
    "## H1 :This notebook consists of information about datascience tools and ecosystem"
   ]
  },
  {
   "cell_type": "markdown",
   "id": "e62c410d-8d6c-4711-be2a-6096dcc241b9",
   "metadata": {},
   "source": [
    "## H2:The main resources to learn this was github\n",
    "## H3 : Resources required to start this journey was laptop,iternet,jupiter,github"
   ]
  },
  {
   "cell_type": "markdown",
   "id": "db4a1f17-ff48-4001-8687-42cacaf9bf81",
   "metadata": {},
   "source": [
    "# popular languages used by DataScientist\n",
    "1. Python\n",
    "2. R\n",
    "3. Julia\n",
    "4. Sql"
   ]
  },
  {
   "cell_type": "markdown",
   "id": "1b141959-4ad1-4e0d-81c6-f097fb1f412c",
   "metadata": {},
   "source": [
    "# popular libraries used by Data Scientist\n",
    "1. Numpy\n",
    "2. Pandas\n",
    "3. Scikitlearn\n",
    "4. pytorch"
   ]
  },
  {
   "cell_type": "markdown",
   "id": "94ae2b10-4d03-4cd9-8b37-b7dc129887d9",
   "metadata": {},
   "source": [
    "|Data Science tools|\n",
    "|-----------------|\n",
    "|Jupiter notebook|\n",
    "|Jupiter lab|\n",
    "|Visual studio code|\n",
    "|R studio|"
   ]
  },
  {
   "cell_type": "markdown",
   "id": "49974f36-74b9-4f7b-a63f-44b0e6398fbd",
   "metadata": {},
   "source": [
    "|Data Science tools|\n",
    "|-----------------|\n",
    "|Jupiter notebook|\n",
    "|Jupiter lab|\n",
    "|Visual stuio code|\n",
    "|R studio|"
   ]
  },
  {
   "cell_type": "markdown",
   "id": "3fafa69a-8557-447a-aeb3-2159796fd952",
   "metadata": {},
   "source": [
    "### H3 : Below are a few examples of evaluating arithmetic expressions in Python\n"
   ]
  },
  {
   "cell_type": "code",
   "execution_count": 1,
   "id": "43d4b5d2-a431-4985-aeee-73d104176f5b",
   "metadata": {
    "tags": []
   },
   "outputs": [
    {
     "data": {
      "text/plain": [
       "4"
      ]
     },
     "execution_count": 1,
     "metadata": {},
     "output_type": "execute_result"
    }
   ],
   "source": [
    "2+2"
   ]
  },
  {
   "cell_type": "code",
   "execution_count": 2,
   "id": "66a70cd6-23eb-486d-8a9b-2108cb911780",
   "metadata": {
    "tags": []
   },
   "outputs": [
    {
     "data": {
      "text/plain": [
       "0"
      ]
     },
     "execution_count": 2,
     "metadata": {},
     "output_type": "execute_result"
    }
   ],
   "source": [
    "3-3"
   ]
  },
  {
   "cell_type": "code",
   "execution_count": 3,
   "id": "8e36fb8d-eb35-4519-a964-4f9258a53b95",
   "metadata": {
    "tags": []
   },
   "outputs": [
    {
     "data": {
      "text/plain": [
       "52"
      ]
     },
     "execution_count": 3,
     "metadata": {},
     "output_type": "execute_result"
    }
   ],
   "source": [
    "22+30"
   ]
  },
  {
   "cell_type": "code",
   "execution_count": 4,
   "id": "33a9c9c2-c54d-4d1f-8d7f-a5e42441f013",
   "metadata": {
    "tags": []
   },
   "outputs": [
    {
     "data": {
      "text/plain": [
       "11.0"
      ]
     },
     "execution_count": 4,
     "metadata": {},
     "output_type": "execute_result"
    }
   ],
   "source": [
    "66/6"
   ]
  },
  {
   "cell_type": "code",
   "execution_count": 5,
   "id": "6464426b-89f2-47c3-9404-9ece1b15e537",
   "metadata": {
    "tags": []
   },
   "outputs": [
    {
     "data": {
      "text/plain": [
       "40"
      ]
     },
     "execution_count": 5,
     "metadata": {},
     "output_type": "execute_result"
    }
   ],
   "source": [
    "5*8"
   ]
  },
  {
   "cell_type": "code",
   "execution_count": 6,
   "id": "cd210707-970b-47bd-b577-d443724d8937",
   "metadata": {
    "tags": []
   },
   "outputs": [
    {
     "data": {
      "text/plain": [
       "140"
      ]
     },
     "execution_count": 6,
     "metadata": {},
     "output_type": "execute_result"
    }
   ],
   "source": [
    "90+50"
   ]
  },
  {
   "cell_type": "markdown",
   "id": "02ffa125-3e7a-4448-864a-151599e15aab",
   "metadata": {},
   "source": [
    "#This a simple arithmetic expression to mutiply then add integers\n",
    " "
   ]
  },
  {
   "cell_type": "code",
   "execution_count": 7,
   "id": "bdcec01e-a718-4a1a-89c8-d1bfb50b1f2d",
   "metadata": {
    "tags": []
   },
   "outputs": [
    {
     "data": {
      "text/plain": [
       "17"
      ]
     },
     "execution_count": 7,
     "metadata": {},
     "output_type": "execute_result"
    }
   ],
   "source": [
    "(3*4)+5"
   ]
  },
  {
   "cell_type": "code",
   "execution_count": 8,
   "id": "5842560a-2bd9-4e54-afc4-21ad31e8ee12",
   "metadata": {
    "tags": []
   },
   "outputs": [
    {
     "name": "stdout",
     "output_type": "stream",
     "text": [
      "3.3333333333333335\n"
     ]
    }
   ],
   "source": [
    " #This will convert 200 minutes to hours by diving by 60\n",
    " minutes = 200\n",
    " hours = minutes/60\n",
    " print(hours)\n",
    " "
   ]
  },
  {
   "cell_type": "markdown",
   "id": "cd09ec9f-3559-482d-a189-bd1d28fc2faf",
   "metadata": {},
   "source": [
    "**Objectives**"
   ]
  },
  {
   "cell_type": "markdown",
   "id": "cf9b3610-9fc0-4015-ad14-1b160a26c0c8",
   "metadata": {
    "tags": []
   },
   "source": [
    "- python\n",
    "* jupiter notebook\n",
    "+ github\n",
    "- julia\n",
    "* apachespark\n",
    "+ R studio"
   ]
  },
  {
   "cell_type": "markdown",
   "id": "f3f1b14a-1720-4d02-a33a-4bb46fa04a04",
   "metadata": {},
   "source": [
    "|H2:Author|\n",
    "|-----------|\n",
    "|Harshitha|"
   ]
  },
  {
   "cell_type": "code",
   "execution_count": null,
   "id": "c8d0eb62-2af9-4177-81cb-09d7a630d66f",
   "metadata": {},
   "outputs": [],
   "source": []
  }
 ],
 "metadata": {
  "kernelspec": {
   "display_name": "Python",
   "language": "python",
   "name": "conda-env-python-py"
  },
  "language_info": {
   "codemirror_mode": {
    "name": "ipython",
    "version": 3
   },
   "file_extension": ".py",
   "mimetype": "text/x-python",
   "name": "python",
   "nbconvert_exporter": "python",
   "pygments_lexer": "ipython3",
   "version": "3.7.12"
  }
 },
 "nbformat": 4,
 "nbformat_minor": 5
}
